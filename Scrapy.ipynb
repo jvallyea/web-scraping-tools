{
 "cells": [
  {
   "cell_type": "code",
   "execution_count": null,
   "metadata": {},
   "outputs": [],
   "source": [
    "import scrapy\n",
    "!pip install selenium\n",
    "from parsel import Selector\n",
    "import csv"
   ]
  },
  {
   "cell_type": "code",
   "execution_count": null,
   "metadata": {},
   "outputs": [],
   "source": [
    "from selenium import webdriver\n",
    "driver = webdriver.Chrome('/Users/jodibeasley/Downloads/chromedriver')\n",
    "driver.get('https://www.linkedin.com/login?fromSignIn=true&trk=guest_homepage-basic_nav-header-signin')"
   ]
  },
  {
   "cell_type": "code",
   "execution_count": null,
   "metadata": {},
   "outputs": [],
   "source": [
    "username = driver.find_element_by_id('username')\n",
    "username.send_keys('beasley.sarahe@gmail.com')\n",
    "password = driver.find_element_by_id('password')\n",
    "password.send_keys('Che$$ie2020')"
   ]
  },
  {
   "cell_type": "code",
   "execution_count": null,
   "metadata": {
    "scrolled": true
   },
   "outputs": [],
   "source": [
    "log_in_button = driver.find_element_by_class_name('login__form_action_container')\n",
    "\n",
    "log_in_button.click()\n"
   ]
  },
  {
   "cell_type": "code",
   "execution_count": null,
   "metadata": {},
   "outputs": [],
   "source": [
    "\n",
    "with open('persons.csv', 'w') as file:\n",
    "    field_names = ['Name', 'Position', 'Company', 'Education', 'Location']\n",
    "    filewriter = csv.DictWriter(file, fieldnames = field_names)\n",
    "    filewriter.writeheader()\n",
    "    "
   ]
  },
  {
   "cell_type": "code",
   "execution_count": null,
   "metadata": {},
   "outputs": [],
   "source": [
    "person_rows = []\n",
    "with open('persons.csv', 'r') as file: \n",
    "    csvreader = csv.reader(file) \n",
    "    for row in csvreader: \n",
    "        person_rows.append(row) \n",
    "    print(\"Total no. of rows: %d\"%(csvreader.line_num)) \n",
    "    print('Field names are:' + ', '.join(field for field in field_names)) \n",
    "\n",
    "    print('\\nFile rows are:\\n') \n",
    "    \n",
    "with open('persons.csv', 'r') as file: \n",
    "    for r in person_rows[:csvreader.line_num]: \n",
    "    # parsing each column of a row \n",
    "        for col in r: \n",
    "            print(\"%10s\"%col), \n",
    "    print('\\n') "
   ]
  },
  {
   "cell_type": "code",
   "execution_count": null,
   "metadata": {},
   "outputs": [],
   "source": [
    "fields = [] \n",
    "rows = [] \n",
    "\n",
    "with open('Tester.csv', 'r') as csvfile: \n",
    "    csvreader = csv.reader(csvfile) \n",
    "    fields = next(csvreader) \n",
    "    for row in csvreader: \n",
    "        rows.append(row) \n",
    "    print(\"Total no. of rows: %d\"%(csvreader.line_num)) \n",
    "    print('Field names are:' + ', '.join(field for field in fields)) \n"
   ]
  },
  {
   "cell_type": "code",
   "execution_count": null,
   "metadata": {},
   "outputs": [],
   "source": [
    "print('\\nFile rows are:\\n') \n",
    "for row in rows[:csvreader.line_num]: \n",
    "    # parsing each column of a row \n",
    "    for col in row: \n",
    "        print(\"%10s\"%col), \n",
    "    print('\\n') \n"
   ]
  },
  {
   "cell_type": "code",
   "execution_count": null,
   "metadata": {},
   "outputs": [],
   "source": [
    "names = []\n",
    "positions = []\n",
    "companies = []\n",
    "colleges = []\n",
    "locations = []\n",
    "\n",
    "def is_not_blank(s):\n",
    "    return bool(s and s.strip())\n"
   ]
  },
  {
   "cell_type": "code",
   "execution_count": null,
   "metadata": {},
   "outputs": [],
   "source": [
    "for row in rows[:csvreader.line_num]: \n",
    "    for col in row: \n",
    "        driver.get(col)\n",
    "        sel = Selector(text=driver.page_source) \n",
    "    # xpath to extract the text from the class containing the name\n",
    "        name = sel.xpath('//*[starts-with(@class, \"inline t-24 t-black t-normal break-words\")]/text()').extract_first()\n",
    "        if name:\n",
    "            name = name.strip()\n",
    "        if(is_not_blank(name)):\n",
    "            names.append(name)\n",
    "        else:\n",
    "            names.append(\"EMPTY\")\n",
    "        print(name)\n",
    "\n",
    "        \n",
    "        job_title = sel.xpath('//*[starts-with(@class, \"mt1 t-18 t-black t-normal break-words\")]/text()').extract_first()\n",
    "        if job_title:\n",
    "            job_title = job_title.strip()\n",
    "        if(is_not_blank(job_title)):\n",
    "            positions.append(job_title)\n",
    "        else:\n",
    "            positions.append(\"EMPTY\")\n",
    "        print(job_title)\n",
    "\n",
    "\n",
    "        company = sel.xpath('//*[starts-with(@class, \"text-align-left ml2 t-14 t-black t-bold full-width lt-line-clamp lt-line-clamp--multi-line ember-view\")]/text()').extract_first()\n",
    "        if company:\n",
    "            company = company.strip()\n",
    "        if(is_not_blank(company)):\n",
    "            companies.append(company)\n",
    "        else:\n",
    "            companies.append(\"EMPTY\")\n",
    "        print(company)\n",
    "        \n",
    "        \n",
    "        college = sel.xpath('//*[starts-with(@class, \"pv-entity__school-name t-16 t-black t-bold\")]/text()').extract_first()\n",
    "        if college:\n",
    "            college = college.strip()\n",
    "        if(is_not_blank(college)):\n",
    "            colleges.append(college)\n",
    "        else:\n",
    "            colleges.append(\"EMPTY\")\n",
    "        print(college)\n",
    "        \n",
    "        location = sel.xpath('//*[starts-with(@class, \"t-16 t-black t-normal inline-block\")]/text()').extract_first()\n",
    "        if location:\n",
    "            location = location.strip()\n",
    "        if(is_not_blank(location)):\n",
    "            locations.append(location)\n",
    "        else:\n",
    "            locations.append(\"EMPTY\")\n",
    "        print(location)\n",
    "\n"
   ]
  },
  {
   "cell_type": "code",
   "execution_count": null,
   "metadata": {},
   "outputs": [],
   "source": [
    "f = open('persons.csv', 'a+', newline = '', encoding='utf8')\n",
    "field_names = ['Name', 'Position', 'Company', 'Education', 'Location']\n",
    "filewriter = csv.DictWriter(f, field_names)\n",
    "\n",
    "for i in range(0, len(names)):            \n",
    "        filewriter.writerow({'Name': names[i],'Position': positions[i],'Company': companies[i],'Education': colleges[i],'Location': locations[i]})\n",
    "      \n"
   ]
  },
  {
   "cell_type": "code",
   "execution_count": null,
   "metadata": {},
   "outputs": [],
   "source": [
    "person_rows = []\n",
    "with open('persons.csv', 'r') as file: \n",
    "    csvreader = csv.reader(file) \n",
    "    for row in csvreader: \n",
    "        person_rows.append(row) \n",
    "    print(\"Total no. of rows: %d\"%(csvreader.line_num)) \n",
    "    print('Field names are:' + ', '.join(field for field in field_names)) \n",
    "\n",
    "    print('\\nFile rows are:\\n') \n",
    "    \n",
    "with open('persons.csv', 'r') as file: \n",
    "    for r in person_rows[:csvreader.line_num]: \n",
    "    # parsing each column of a row \n",
    "        print(\"%10s\"%r), \n",
    "        print('\\n') "
   ]
  },
  {
   "cell_type": "code",
   "execution_count": null,
   "metadata": {},
   "outputs": [],
   "source": [
    "# terminates the application\n",
    "driver.quit()"
   ]
  }
 ],
 "metadata": {
  "kernelspec": {
   "display_name": "Python 3",
   "language": "python",
   "name": "python3"
  },
  "language_info": {
   "codemirror_mode": {
    "name": "ipython",
    "version": 3
   },
   "file_extension": ".py",
   "mimetype": "text/x-python",
   "name": "python",
   "nbconvert_exporter": "python",
   "pygments_lexer": "ipython3",
   "version": "3.7.6"
  }
 },
 "nbformat": 4,
 "nbformat_minor": 4
}
