{
 "cells": [
  {
   "cell_type": "code",
   "execution_count": 1,
   "metadata": {},
   "outputs": [],
   "source": [
    "# Import statements\n",
    "import pandas as pd\n",
    "import numpy as np \n",
    "import csv \n",
    "import json\n",
    "import re"
   ]
  },
  {
   "cell_type": "code",
   "execution_count": 2,
   "metadata": {},
   "outputs": [
    {
     "name": "stderr",
     "output_type": "stream",
     "text": [
      "/Users/mymacbook/.local/lib/python3.7/site-packages/ipykernel_launcher.py:17: SettingWithCopyWarning: \n",
      "A value is trying to be set on a copy of a slice from a DataFrame\n",
      "\n",
      "See the caveats in the documentation: https://pandas.pydata.org/pandas-docs/stable/user_guide/indexing.html#returning-a-view-versus-a-copy\n"
     ]
    }
   ],
   "source": [
    "'''\n",
    "Loads the dataframe from Query 1 and Query 2 and merges + drops duplicates and NaNs\n",
    "    @param: csv1: path to CSV 1 (formed by Query 1)\n",
    "    @param: csv2: path to CSV 2 (formed by Query 2)\n",
    "    @return: df1: a merged dataframe of csv1 and csv2\n",
    "'''\n",
    "def loadBacktestData(csv1, csv2):\n",
    "    df1 = pd.read_csv(csv1)\n",
    "    df2 = pd.read_csv(csv2)\n",
    "    df1 = df1.append(df2)\n",
    "    df1 = df1.drop_duplicates(subset=['Organization Name'])\n",
    "    df1 = df1[df1.Founders.notna()]\n",
    "    df1 = df1[df1.LinkedIn.notna()]\n",
    "    df1 = df1.reset_index()\n",
    "    for i in range(len(df1)):\n",
    "        if df1.iloc[i].LinkedIn.count('about') > 0:\n",
    "            df1['LinkedIn'][i] = df1['LinkedIn'][i].split('about')[0]\n",
    "    df1 = df1.set_index('Organization Name')\n",
    "    df1 = df1.drop('index', 1)\n",
    "    df1['Organization Name'] = df1.index\n",
    "    return df1\n",
    "\n",
    "# Loads and combines both CSVs into df1 dataframe\n",
    "df1 = loadBacktestData('backtest1.csv', 'backtest2.csv')"
   ]
  },
  {
   "cell_type": "code",
   "execution_count": 3,
   "metadata": {},
   "outputs": [],
   "source": [
    "'''\n",
    "Method to save the company data as a txt file (loadable as JSON)\n",
    "    @param: data: company_data dictionary of Company objects\n",
    "    @return: None\n",
    "'''\n",
    "def saveData(data, fileName):\n",
    "    data_json = json.dumps(data, default=lambda x: x.__dict__)\n",
    "    with open(fileName, 'w') as outfile:\n",
    "        json.dump(data_json, outfile)\n",
    "\n",
    "'''\n",
    "Method to load company data into a dictionary (same structure as Company object)\n",
    "    @param: dataFile: string path to saved txt file\n",
    "    @return: dataDict: a dictionary with the same structure as a Company object\n",
    "'''\n",
    "def loadData(dataFile):\n",
    "    with open(dataFile) as json_file:\n",
    "        data = json.load(json_file)\n",
    "    dataDict = json.loads(data)\n",
    "    return dataDict"
   ]
  },
  {
   "cell_type": "code",
   "execution_count": 4,
   "metadata": {},
   "outputs": [],
   "source": [
    "alldata = loadData('alldata_final.txt')"
   ]
  },
  {
   "cell_type": "code",
   "execution_count": 5,
   "metadata": {},
   "outputs": [],
   "source": [
    "'''\n",
    "Structure of Company Dictionary Entry:\n",
    "    @name - string for the company's name\n",
    "    @description - string for a company description\n",
    "    @founders - list of founder dictionaries (single founders)\n",
    "        Structure of Founder Dictionary Entry\n",
    "            @name - string for the founder's name\n",
    "            @connections - string for the founder's # of connections\n",
    "            @location - string for the founder's location \n",
    "            @education - list of education dictionaries (single education experiences)\n",
    "                Structure of Education Dictionary Entry\n",
    "                    @school - string for the school name\n",
    "                    @degree - string for the degree objective (i.e. BS / BA)\n",
    "                    @field - string for the field studied (i.e. Computer Science)\n",
    "            @experience - list of experience dictionaries (single experiences)\n",
    "                Structure of Experience Dictionary Entry\n",
    "                    @companyName - string for the company's name\n",
    "                    @title - string for the position held at the company\n",
    "                    @dates - string for the dates worked at the company (i.e. May 2000 - Jun 2000)\n",
    "    @industries - list of strings with the industries the company is involved in \n",
    "    @website - string for the company's website\n",
    "    @lastStage - string for the last stage of funding received (i.e. Series A)\n",
    "    @linkedin - string for the URL of the company's LI profile\n",
    "    @location - string for the company's HQ location\n",
    "'''\n",
    "pass"
   ]
  },
  {
   "cell_type": "code",
   "execution_count": 6,
   "metadata": {},
   "outputs": [
    {
     "name": "stdout",
     "output_type": "stream",
     "text": [
      "For undergraduate education, 28.777738640366323 % of founders attended a Top 100 School\n"
     ]
    }
   ],
   "source": [
    "'''\n",
    "Pedigree\n",
    "    1. Do the majority of successful founders attend a top university?\n",
    "'''\n",
    "topSchools = pd.read_csv('topSchools.csv', index_col=\"Score_Rank\")\n",
    "topSchools = [i.lower() for i in topSchools.head(100)['University']]\n",
    "topcount = 0 ; schoolDict = {} ; founderCount = 0\n",
    "for key in alldata.keys():\n",
    "    if alldata[key]['founders']:\n",
    "        for founder in alldata[key]['founders']:\n",
    "            if founder['education']:\n",
    "                founderCount += 1\n",
    "                for educ_ in founder['education']:\n",
    "                    school_ = educ_['school'].lower()\n",
    "                    if school_ not in schoolDict:\n",
    "                        schoolDict[school_] = 1\n",
    "                    else:\n",
    "                        schoolDict[school_] += 1\n",
    "                    if school_ in topSchools:\n",
    "                        topcount += 1\n",
    "                        break\n",
    "schoolDict = {k: v for k, v in sorted(schoolDict.items(), key=lambda item: item[1], reverse=True)}                   \n",
    "print(\"For undergraduate education, {} % of founders attended a Top 100 School\".format(str(topcount / founderCount * 100)))                        \n",
    "\n",
    "# NEED TO FIND A WAY TO ACCOUNT FOR POSTGRADUATE EDUCATION (i.e. Harvard Business School)"
   ]
  },
  {
   "cell_type": "code",
   "execution_count": null,
   "metadata": {},
   "outputs": [],
   "source": []
  },
  {
   "cell_type": "code",
   "execution_count": 16,
   "metadata": {},
   "outputs": [
    {
     "name": "stdout",
     "output_type": "stream",
     "text": [
      "10.955165692007798 percent of founders have postgraduate education\n"
     ]
    }
   ],
   "source": [
    "'''\n",
    "Pedigree\n",
    "    2. Do the majority of successful founders attend graduate school?\n",
    "'''\n",
    "degreeDict = {} ; degreeCount = 0 ; gradCount = 0\n",
    "for key in alldata.keys():\n",
    "    if alldata[key]['founders']:\n",
    "        for founder in alldata[key]['founders']:\n",
    "            if founder['education']:\n",
    "                checkDegree = True\n",
    "                for educ_ in founder['education']:\n",
    "                    if educ_['degree']:\n",
    "                        school_ = educ_['degree'].lower()\n",
    "                        if checkDegree:\n",
    "                            degreeCount += 1\n",
    "                            checkDegree = False\n",
    "                        if school_ not in degreeDict:\n",
    "                            degreeDict[school_] = 1\n",
    "                        else:\n",
    "                            degreeDict[school_] += 1\n",
    "degreeDict = {k: v for k, v in sorted(degreeDict.items(), key=lambda item: item[1], reverse=True)}  \n",
    "for key in degreeDict.keys():\n",
    "    if key in ['mba', 'ms', 'msc', 'ph.d', 'phd', 'ma', 'be', 'jd', 'ph.d', 'md', 'mse', 'meng'] or 'master' in key or 'm.' in key or 'doctor' in key:\n",
    "        gradCount += 1\n",
    "print(\"{} percent of founders have postgraduate education\".format(str(gradCount / degreeCount * 100)))"
   ]
  },
  {
   "cell_type": "code",
   "execution_count": null,
   "metadata": {},
   "outputs": [],
   "source": [
    "'''\n",
    "Pedigree\n",
    "    3. Do successful founders study certain fields over others?\n",
    "'''"
   ]
  },
  {
   "cell_type": "code",
   "execution_count": null,
   "metadata": {},
   "outputs": [],
   "source": [
    "''' Saves the extracted data to a CSV'''\n",
    "\n",
    "df_schools = pd.DataFrame.from_dict(schools, orient='index', columns=['freq'])\n",
    "df_schools.sort_values(['freq'], ascending=False).to_csv('schools.csv')\n",
    "\n",
    "df_fields = pd.DataFrame.from_dict(fields, orient='index', columns=['freq'])\n",
    "df_fields.sort_values(['freq'], ascending=False).to_csv('fields.csv')\n",
    "\n",
    "df_compnames = pd.DataFrame.from_dict(companynames, orient='index', columns=['freq'])\n",
    "df_compnames.sort_values(['freq'], ascending=False).to_csv('companynames.csv')\n",
    "\n",
    "df_titles = pd.DataFrame.from_dict(jobtitle, orient='index', columns=['freq'])\n",
    "df_titles.sort_values(['freq'], ascending=False).to_csv('titles.csv')"
   ]
  }
 ],
 "metadata": {
  "kernelspec": {
   "display_name": "Miniconda3",
   "language": "python",
   "name": "miniconda3"
  },
  "language_info": {
   "codemirror_mode": {
    "name": "ipython",
    "version": 3
   },
   "file_extension": ".py",
   "mimetype": "text/x-python",
   "name": "python",
   "nbconvert_exporter": "python",
   "pygments_lexer": "ipython3",
   "version": "3.7.7"
  }
 },
 "nbformat": 4,
 "nbformat_minor": 2
}
