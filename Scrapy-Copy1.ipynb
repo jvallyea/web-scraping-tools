{
 "cells": [
  {
   "cell_type": "code",
   "execution_count": 158,
   "metadata": {},
   "outputs": [
    {
     "name": "stdout",
     "output_type": "stream",
     "text": [
      "Requirement already satisfied: selenium in /opt/anaconda3/lib/python3.7/site-packages (3.141.0)\r\n",
      "Requirement already satisfied: urllib3 in /opt/anaconda3/lib/python3.7/site-packages (from selenium) (1.25.8)\r\n"
     ]
    }
   ],
   "source": [
    "import scrapy\n",
    "!pip install selenium\n",
    "from parsel import Selector\n",
    "import csv"
   ]
  },
  {
   "cell_type": "code",
   "execution_count": 159,
   "metadata": {},
   "outputs": [],
   "source": [
    "from selenium import webdriver\n",
    "driver = webdriver.Chrome('/Users/jodibeasley/Downloads/chromedriver')\n",
    "driver.get('https://www.linkedin.com/login?fromSignIn=true&trk=guest_homepage-basic_nav-header-signin')"
   ]
  },
  {
   "cell_type": "code",
   "execution_count": 160,
   "metadata": {},
   "outputs": [],
   "source": [
    "username = driver.find_element_by_id('username')\n",
    "username.send_keys('beasley.sarahe@gmail.com')\n",
    "password = driver.find_element_by_id('password')\n",
    "password.send_keys('Che$$ie2020')"
   ]
  },
  {
   "cell_type": "code",
   "execution_count": 161,
   "metadata": {
    "scrolled": true
   },
   "outputs": [],
   "source": [
    "log_in_button = driver.find_element_by_class_name('login__form_action_container')\n",
    "\n",
    "log_in_button.click()\n"
   ]
  },
  {
   "cell_type": "code",
   "execution_count": null,
   "metadata": {},
   "outputs": [],
   "source": []
  },
  {
   "cell_type": "code",
   "execution_count": 178,
   "metadata": {},
   "outputs": [],
   "source": [
    "\n",
    "with open('persons.csv', 'w') as file:\n",
    "    field_names = ['Name', 'Position', 'Company', 'Education', 'Location']\n",
    "    filewriter = csv.DictWriter(file, fieldnames = field_names)\n",
    "    filewriter.writeheader()\n",
    "    "
   ]
  },
  {
   "cell_type": "code",
   "execution_count": 179,
   "metadata": {},
   "outputs": [
    {
     "name": "stdout",
     "output_type": "stream",
     "text": [
      "Total no. of rows: 1\n",
      "Field names are:Name, Position, Company, Education, Location\n",
      "\n",
      "File rows are:\n",
      "\n",
      "      Name\n",
      "  Position\n",
      "   Company\n",
      " Education\n",
      "  Location\n",
      "\n",
      "\n"
     ]
    }
   ],
   "source": [
    "person_rows = []\n",
    "with open('persons.csv', 'r') as file: \n",
    "    csvreader = csv.reader(file) \n",
    "    for row in csvreader: \n",
    "        person_rows.append(row) \n",
    "    print(\"Total no. of rows: %d\"%(csvreader.line_num)) \n",
    "    print('Field names are:' + ', '.join(field for field in field_names)) \n",
    "\n",
    "    print('\\nFile rows are:\\n') \n",
    "    \n",
    "with open('persons.csv', 'r') as file: \n",
    "    for r in person_rows[:csvreader.line_num]: \n",
    "    # parsing each column of a row \n",
    "        for col in r: \n",
    "            print(\"%10s\"%col), \n",
    "    print('\\n') "
   ]
  },
  {
   "cell_type": "code",
   "execution_count": 164,
   "metadata": {},
   "outputs": [
    {
     "name": "stdout",
     "output_type": "stream",
     "text": [
      "Total no. of rows: 4\n",
      "Field names are:﻿Linkedin\n"
     ]
    }
   ],
   "source": [
    "fields = [] \n",
    "rows = [] \n",
    "\n",
    "with open('Tester.csv', 'r') as csvfile: \n",
    "    csvreader = csv.reader(csvfile) \n",
    "    fields = next(csvreader) \n",
    "    for row in csvreader: \n",
    "        rows.append(row) \n",
    "    print(\"Total no. of rows: %d\"%(csvreader.line_num)) \n",
    "    print('Field names are:' + ', '.join(field for field in fields)) \n"
   ]
  },
  {
   "cell_type": "code",
   "execution_count": 165,
   "metadata": {},
   "outputs": [
    {
     "name": "stdout",
     "output_type": "stream",
     "text": [
      "\n",
      "File rows are:\n",
      "\n",
      "https://www.linkedin.com/in/taylor-beasley-5798061a3/\n",
      "\n",
      "\n",
      "https://www.linkedin.com/in/gary-beasley-956647/\n",
      "\n",
      "\n",
      "https://www.linkedin.com/in/jodibeasley/\n",
      "\n",
      "\n"
     ]
    }
   ],
   "source": [
    "print('\\nFile rows are:\\n') \n",
    "for row in rows[:csvreader.line_num]: \n",
    "    # parsing each column of a row \n",
    "    for col in row: \n",
    "        print(\"%10s\"%col), \n",
    "    print('\\n') \n"
   ]
  },
  {
   "cell_type": "code",
   "execution_count": 173,
   "metadata": {},
   "outputs": [],
   "source": [
    "names = []\n",
    "positions = []\n",
    "companies = []\n",
    "colleges = []\n",
    "locations = []\n",
    "\n",
    "def is_not_blank(s):\n",
    "    return bool(s and s.strip())\n"
   ]
  },
  {
   "cell_type": "code",
   "execution_count": 174,
   "metadata": {},
   "outputs": [
    {
     "name": "stdout",
     "output_type": "stream",
     "text": [
      "Taylor Beasley\n",
      "Undergraduate Student at Miami University\n",
      "KMT Riding Academy\n",
      "None\n",
      "Oxford, Ohio\n",
      "Gary Beasley\n",
      "CEO + co-founder, Roofstock\n",
      "Roofstock\n",
      "None\n",
      "Oakland, California\n",
      "Jodi Beasley\n",
      "Sustainability | Corporate Social Responsibility | ESR | Social Impact | Partnerships | Program Management\n",
      "Fair Trade USA\n",
      "None\n",
      "Oakland, California\n"
     ]
    }
   ],
   "source": [
    "for row in rows[:csvreader.line_num]: \n",
    "    for col in row: \n",
    "        driver.get(col)\n",
    "        sel = Selector(text=driver.page_source) \n",
    "    # xpath to extract the text from the class containing the name\n",
    "        name = sel.xpath('//*[starts-with(@class, \"inline t-24 t-black t-normal break-words\")]/text()').extract_first()\n",
    "        if name:\n",
    "            name = name.strip()\n",
    "        if(is_not_blank(name)):\n",
    "            names.append(name)\n",
    "        else:\n",
    "            names.append(\"EMPTY\")\n",
    "        print(name)\n",
    "\n",
    "        \n",
    "        job_title = sel.xpath('//*[starts-with(@class, \"mt1 t-18 t-black t-normal break-words\")]/text()').extract_first()\n",
    "        if job_title:\n",
    "            job_title = job_title.strip()\n",
    "        if(is_not_blank(job_title)):\n",
    "            positions.append(job_title)\n",
    "        else:\n",
    "            positions.append(\"EMPTY\")\n",
    "        print(job_title)\n",
    "\n",
    "\n",
    "        company = sel.xpath('//*[starts-with(@class, \"text-align-left ml2 t-14 t-black t-bold full-width lt-line-clamp lt-line-clamp--multi-line ember-view\")]/text()').extract_first()\n",
    "        if company:\n",
    "            company = company.strip()\n",
    "        if(is_not_blank(company)):\n",
    "            companies.append(company)\n",
    "        else:\n",
    "            companies.append(\"EMPTY\")\n",
    "        print(company)\n",
    "        \n",
    "        \n",
    "        college = sel.xpath('//*[starts-with(@class, \"pv-entity__school-name t-16 t-black t-bold\")]/text()').extract_first()\n",
    "        if college:\n",
    "            college = college.strip()\n",
    "        if(is_not_blank(college)):\n",
    "            colleges.append(college)\n",
    "        else:\n",
    "            colleges.append(\"EMPTY\")\n",
    "        print(college)\n",
    "        \n",
    "        location = sel.xpath('//*[starts-with(@class, \"t-16 t-black t-normal inline-block\")]/text()').extract_first()\n",
    "        if location:\n",
    "            location = location.strip()\n",
    "        if(is_not_blank(location)):\n",
    "            locations.append(location)\n",
    "        else:\n",
    "            locations.append(\"EMPTY\")\n",
    "        print(location)\n",
    "\n",
    "   \n",
    "\n"
   ]
  },
  {
   "cell_type": "code",
   "execution_count": 175,
   "metadata": {},
   "outputs": [
    {
     "name": "stdout",
     "output_type": "stream",
     "text": [
      "Jodi Beasley\n",
      "CEO + co-founder, Roofstock\n",
      "EMPTY\n",
      "Roofstock\n",
      "Oakland, California\n"
     ]
    }
   ],
   "source": [
    "#testing\n",
    "print (names[2])\n",
    "print (positions[1])\n",
    "print (colleges[1])\n",
    "print (companies[1])\n",
    "print (locations[1])\n"
   ]
  },
  {
   "cell_type": "code",
   "execution_count": 176,
   "metadata": {},
   "outputs": [],
   "source": [
    "f = open('persons.csv', 'a+', newline = '', encoding='utf8')\n",
    "field_names = ['Name', 'Position', 'Company', 'Education', 'Location']\n",
    "filewriter = csv.DictWriter(f, field_names)\n",
    "\n",
    "for i in range(0, len(names)):            \n",
    "        filewriter.writerow({'Name': names[i],'Position': positions[i],'Company': companies[i],'Education': colleges[i],'Location': locations[i]})\n",
    "      \n"
   ]
  },
  {
   "cell_type": "code",
   "execution_count": null,
   "metadata": {},
   "outputs": [],
   "source": []
  },
  {
   "cell_type": "code",
   "execution_count": null,
   "metadata": {},
   "outputs": [],
   "source": [
    "# terminates the application\n",
    "driver.quit()"
   ]
  },
  {
   "cell_type": "code",
   "execution_count": null,
   "metadata": {},
   "outputs": [],
   "source": []
  },
  {
   "cell_type": "code",
   "execution_count": 177,
   "metadata": {},
   "outputs": [
    {
     "name": "stdout",
     "output_type": "stream",
     "text": [
      "Total no. of rows: 8\n",
      "Field names are:Name, Position, Company, Education, Location\n",
      "\n",
      "File rows are:\n",
      "\n",
      "['Name', 'Position', 'Company', 'Education', 'Location']\n",
      "\n",
      "\n",
      "['Taylor Beasley', 'Undergraduate Student at Miami University', 'KMT Riding Academy', 'EMPTY', 'Oxford, Ohio']\n",
      "\n",
      "\n",
      "['Gary Beasley', 'CEO + co-founder, Roofstock', 'Roofstock', 'EMPTY', 'Oakland, California']\n",
      "\n",
      "\n",
      "['Taylor Beasley', 'Undergraduate Student at Miami University', 'KMT Riding Academy', 'EMPTY', 'Oxford, Ohio']\n",
      "\n",
      "\n",
      "['Gary Beasley', 'CEO + co-founder, Roofstock', 'Roofstock', 'EMPTY', 'Oakland, California']\n",
      "\n",
      "\n",
      "['Taylor Beasley', 'Undergraduate Student at Miami University', 'KMT Riding Academy', 'EMPTY', 'Oxford, Ohio']\n",
      "\n",
      "\n",
      "['Gary Beasley', 'CEO + co-founder, Roofstock', 'Roofstock', 'EMPTY', 'Oakland, California']\n",
      "\n",
      "\n",
      "['Jodi Beasley', 'Sustainability | Corporate Social Responsibility | ESR | Social Impact | Partnerships | Program Management', 'Fair Trade USA', 'Northwestern University', 'Oakland, California']\n",
      "\n",
      "\n"
     ]
    }
   ],
   "source": [
    "person_rows = []\n",
    "with open('persons.csv', 'r') as file: \n",
    "    csvreader = csv.reader(file) \n",
    "    for row in csvreader: \n",
    "        person_rows.append(row) \n",
    "    print(\"Total no. of rows: %d\"%(csvreader.line_num)) \n",
    "    print('Field names are:' + ', '.join(field for field in field_names)) \n",
    "\n",
    "    print('\\nFile rows are:\\n') \n",
    "    \n",
    "with open('persons.csv', 'r') as file: \n",
    "    for r in person_rows[:csvreader.line_num]: \n",
    "    # parsing each column of a row \n",
    "        print(\"%10s\"%r), \n",
    "        print('\\n') "
   ]
  },
  {
   "cell_type": "code",
   "execution_count": 49,
   "metadata": {},
   "outputs": [
    {
     "name": "stdout",
     "output_type": "stream",
     "text": [
      "\n",
      "File rows are:\n",
      "\n"
     ]
    }
   ],
   "source": []
  },
  {
   "cell_type": "code",
   "execution_count": 54,
   "metadata": {},
   "outputs": [
    {
     "name": "stdout",
     "output_type": "stream",
     "text": [
      "Total no. of rows: 4\n"
     ]
    }
   ],
   "source": []
  },
  {
   "cell_type": "code",
   "execution_count": null,
   "metadata": {},
   "outputs": [],
   "source": []
  },
  {
   "cell_type": "code",
   "execution_count": null,
   "metadata": {},
   "outputs": [],
   "source": []
  },
  {
   "cell_type": "code",
   "execution_count": null,
   "metadata": {},
   "outputs": [],
   "source": []
  },
  {
   "cell_type": "code",
   "execution_count": null,
   "metadata": {},
   "outputs": [],
   "source": []
  },
  {
   "cell_type": "code",
   "execution_count": null,
   "metadata": {},
   "outputs": [],
   "source": []
  },
  {
   "cell_type": "code",
   "execution_count": null,
   "metadata": {},
   "outputs": [],
   "source": []
  },
  {
   "cell_type": "code",
   "execution_count": null,
   "metadata": {},
   "outputs": [],
   "source": []
  },
  {
   "cell_type": "code",
   "execution_count": null,
   "metadata": {},
   "outputs": [],
   "source": []
  },
  {
   "cell_type": "code",
   "execution_count": null,
   "metadata": {},
   "outputs": [],
   "source": []
  },
  {
   "cell_type": "code",
   "execution_count": null,
   "metadata": {},
   "outputs": [],
   "source": [
    "# from scrapy.selector import Selector\n",
    "# import csv\n",
    "# from parsel import Selector\n",
    "# from selenium import webdriver\n"
   ]
  },
  {
   "cell_type": "code",
   "execution_count": null,
   "metadata": {},
   "outputs": [],
   "source": [
    "# foundersList = []"
   ]
  },
  {
   "cell_type": "code",
   "execution_count": null,
   "metadata": {},
   "outputs": [],
   "source": [
    "# class founder:\n",
    "#     def __init__(self, name, position, company, education, location):  \n",
    "#         self.name = name  \n",
    "#         self.position = position\n",
    "#         self.company = company\n",
    "#         self.education = education\n",
    "#         self.location = location\n"
   ]
  },
  {
   "cell_type": "code",
   "execution_count": null,
   "metadata": {},
   "outputs": [],
   "source": [
    "# class linkedinSpider(scrapy.Spider):\n",
    "#     name = \"mySpider\"\n",
    "#     allowed_domains = ['www.linkedin.com']\n",
    "#     start_urls = ['https://www.linkedin.com/in/taylor-beasley-5798061a3/']\n",
    "    \n",
    "#     def start_requests(self):\n",
    "#         return [scrapy.FormRequest(\"https://www.linkedin.com/login\",\n",
    "#                                    formdata={'user': 'beasley.sarahe@gmail.com', 'pass': 'Che$$ie2020'},\n",
    "#                                    callback=self.logged_in)]\n",
    "#     def logged_in(self, response):\n",
    "#         with open(start_urls) as f:\n",
    "#             for url in f.readlines():\n",
    "#                 return scrapy.Request(url, callback=self.parse)\n",
    "#         pass\n",
    "    \n",
    "#     def parse(self, response):\n",
    "        \n",
    "#         self.logger.info('item page %s', response.url)\n",
    "        \n",
    "        \n",
    "#         name = response.xpath('//*[@class = \"inline t-24 t-black t-normal break-works\"]/text()').extract_first().split()\n",
    "#         name = ' '.join(name)\n",
    "        \n",
    "#         position = response.xpath('//*[@class = \"mt1 t-18 t-black t-normal\"]/text()').extract_first().split()\n",
    "#         position = join(position)\n",
    "        \n",
    "#         experience = response.xpath('//*[@class = \"pv-top-card-v3--experience-list\"]')\n",
    "        \n",
    "#         company = experience.xpath('./li[@data-control-name=\"position_see_more\"]//span/text()').extract_first()\n",
    "#         company = ' '.join(company.split()) if company else None\n",
    "    \n",
    "#         education = experience.xpath('./li[@data-control-name=\"education_see_more\"]//span/text()').extract_first()\n",
    "#         education = ' '.join(education.split()) if education else None\n",
    "        \n",
    "#         location = response.xpath('//*[@class = \"t-16 t-black t-normal inline-block\"]/text()').extract_first().split()\n",
    "#         location = ' '.join(location)\n",
    "                \n",
    "#         foundersList.append(founder(name, position, company, education, location))\n",
    "    \n",
    "    "
   ]
  },
  {
   "cell_type": "code",
   "execution_count": null,
   "metadata": {},
   "outputs": [],
   "source": [
    "# for f in foundersList: \n",
    "#     print( f.name, f.position, f.company, f,education, f.location, sep =' ' ) "
   ]
  },
  {
   "cell_type": "code",
   "execution_count": null,
   "metadata": {},
   "outputs": [],
   "source": [
    "# spider = linkedinSpider()\n",
    "# print spider."
   ]
  },
  {
   "cell_type": "code",
   "execution_count": null,
   "metadata": {},
   "outputs": [],
   "source": []
  },
  {
   "cell_type": "code",
   "execution_count": null,
   "metadata": {},
   "outputs": [],
   "source": []
  },
  {
   "cell_type": "code",
   "execution_count": null,
   "metadata": {},
   "outputs": [],
   "source": []
  },
  {
   "cell_type": "code",
   "execution_count": null,
   "metadata": {},
   "outputs": [],
   "source": []
  },
  {
   "cell_type": "code",
   "execution_count": null,
   "metadata": {},
   "outputs": [],
   "source": []
  },
  {
   "cell_type": "code",
   "execution_count": null,
   "metadata": {},
   "outputs": [],
   "source": []
  },
  {
   "cell_type": "code",
   "execution_count": null,
   "metadata": {},
   "outputs": [],
   "source": []
  },
  {
   "cell_type": "code",
   "execution_count": null,
   "metadata": {},
   "outputs": [],
   "source": []
  },
  {
   "cell_type": "code",
   "execution_count": null,
   "metadata": {},
   "outputs": [],
   "source": []
  },
  {
   "cell_type": "code",
   "execution_count": null,
   "metadata": {},
   "outputs": [],
   "source": []
  },
  {
   "cell_type": "code",
   "execution_count": null,
   "metadata": {},
   "outputs": [],
   "source": []
  },
  {
   "cell_type": "code",
   "execution_count": null,
   "metadata": {},
   "outputs": [],
   "source": []
  },
  {
   "cell_type": "code",
   "execution_count": null,
   "metadata": {},
   "outputs": [],
   "source": []
  },
  {
   "cell_type": "code",
   "execution_count": null,
   "metadata": {},
   "outputs": [],
   "source": [
    "class BrickSetSpider(scrapy.Spider):\n",
    "    name = \"brickset_spider\"\n",
    "    start_urls = []"
   ]
  },
  {
   "cell_type": "code",
   "execution_count": null,
   "metadata": {},
   "outputs": [],
   "source": [
    "import csv\n",
    "from parsel import Selector\n",
    "from selenium import webdriver\n",
    "\n",
    "writer = csv.writer(open('output.csv', 'w+', encoding = 'utf-8-sig', newline = ''))\n",
    "writer.writerow(['Name', 'Position', 'Company', 'Education', 'Location', 'URL'])\n",
    "\n",
    "user = webdriver.Chrome('C://Users//jodibeasley//Downloads//chromedriver')\n",
    "user.get('http//www.linkedin.com/')\n",
    "\n",
    "username = user.find_element_by_name(\"session_key\")\n",
    "username.send_keys('beasley.sarahe@gmail.com')\n",
    "\n",
    "password = user.find_element_by_name('session_password')\n",
    "password.user.send_keys('Che$$ie2020')\n",
    "\n",
    "sign_in_button = user.find_element_by_name('sign-in-form_submit-btn')\n",
    "sign_in_button.click()\n",
    "\n",
    "urls = spark.sql(\"\"\" SELECT primary.linkedin FROM primary \"\"\")\n",
    "\n",
    "for url in urls:\n",
    "    user.get(url)\n",
    "    select = Selector(text = user.page_source)\n",
    "    name = select.xpath('//*[@class = \"inline t-24 t-black t-normal break-works\"]/text()').extract_first().split()\n",
    "    name = ' '.join(name)\n",
    "    position = select.xpath('//*[@class = \"mt1 t-18 t-black t-normal\"]/text()').extract_first().split()\n",
    "    position = join(position)\n",
    "    experience = select.xpath('//*[@class = \"pv-top-card-v3--experience-list\"]')\n",
    "    company = experience.xpath('./li[@data-control-name=\"position_see_more\"]//span/text()').extract_first()\n",
    "    company = ' '.join(company.split()) if company \n",
    "    education = experience.xpath('./li[@data-control-name=\"education_see_more\"]//span/text()').extract_first()\n",
    "    education = ' '.join(education.split()) if education\n",
    "    location = select.xpath('//*[@class = \"t-16 t-black t-normal inline-block\"]/text()').extract_first().split()\n",
    "    location = ' '.join(location)\n",
    "    url = user.current_url\n",
    "    writer.writerow([name, position, company, eduation, location, url])\n",
    "\n",
    "user.quit()\n"
   ]
  }
 ],
 "metadata": {
  "kernelspec": {
   "display_name": "Python 3",
   "language": "python",
   "name": "python3"
  },
  "language_info": {
   "codemirror_mode": {
    "name": "ipython",
    "version": 3
   },
   "file_extension": ".py",
   "mimetype": "text/x-python",
   "name": "python",
   "nbconvert_exporter": "python",
   "pygments_lexer": "ipython3",
   "version": "3.7.6"
  }
 },
 "nbformat": 4,
 "nbformat_minor": 4
}
