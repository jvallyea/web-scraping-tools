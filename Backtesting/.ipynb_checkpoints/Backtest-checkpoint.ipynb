{
 "cells": [
  {
   "cell_type": "code",
   "execution_count": 88,
   "metadata": {},
   "outputs": [],
   "source": [
    "# Import statements\n",
    "import pandas as pd\n",
    "import numpy as np \n",
    "import csv \n",
    "from parsel import Selector\n",
    "from time import sleep\n",
    "from selenium import webdriver\n",
    "from selenium.webdriver.common.keys import Keys\n",
    "import json"
   ]
  },
  {
   "cell_type": "code",
   "execution_count": 99,
   "metadata": {},
   "outputs": [],
   "source": [
    "'''\n",
    "Class to describe a given company \n",
    "    @field: name: a string for the company name\n",
    "    @field: description: a string for the company description\n",
    "    @field: founders: a list of Founder objects\n",
    "    @field: industries: a list of strings for different industries\n",
    "    @field: website: a string for the website\n",
    "    @field: lastStage: a string for the last stage of funding (eg. Series A)\n",
    "    @field: linkedin: a string for the company's LinkedIn profile\n",
    "    @field: location: a string for the company's location\n",
    "'''\n",
    "class Company:\n",
    "    def __init__(self, companyName):\n",
    "        self.name = companyName\n",
    "        self.description = None\n",
    "        self.founders = []\n",
    "        self.industries = []\n",
    "        self.website = None\n",
    "        self.lastStage = None\n",
    "        self.linkedin = None\n",
    "    \n",
    "    def toJson(self):\n",
    "        return json.dumps(self, default=lambda o: o.__dict__)\n",
    "    \n",
    "'''\n",
    "Class to describe a founder\n",
    "    @field: name: a string for the founder's name\n",
    "    @field: education: an list of education objects\n",
    "    @field: experience: a list of experience objects\n",
    "'''\n",
    "class Founder:\n",
    "    def __init__(self, founderName):\n",
    "        self.name = founderName\n",
    "        self.education = []\n",
    "        self.experience = []\n",
    "\n",
    "'''\n",
    "Class to help describe a founder's education\n",
    "    @field: degree: a string to describe the degree objective\n",
    "    @field: school: a string for the school attended\n",
    "    @field: field: a string to describe the major\n",
    "'''\n",
    "class Education:\n",
    "    def __init__(self, schoolName):\n",
    "        self.school = schoolName\n",
    "        self.degree = None\n",
    "        self.field = None\n",
    "'''\n",
    "Class to help describe a founder's experience\n",
    "    @field: companyName: a string to describe the company's name\n",
    "    @field: title: a string to describe the title held\n",
    "    @field: description: a string to describe the job description\n",
    "'''       \n",
    "class Experience:\n",
    "    def __init__(self, companyName):\n",
    "        self.companyName = companyName\n",
    "        self.title = None\n",
    "        self.dates = None"
   ]
  },
  {
   "cell_type": "code",
   "execution_count": 90,
   "metadata": {},
   "outputs": [],
   "source": [
    "'''\n",
    "Loads the dataframe from Query 1 and Query 2 and merges + drops duplicates and NaNs\n",
    "    @param: csv1: path to CSV 1 (formed by Query 1)\n",
    "    @param: csv2: path to CSV 2 (formed by Query 2)\n",
    "    @return: df1: a merged dataframe of csv1 and csv2\n",
    "'''\n",
    "def loadBacktestData(csv1, csv2):\n",
    "    df1 = pd.read_csv(csv1)\n",
    "    df2 = pd.read_csv(csv2)\n",
    "    df1 = df1.append(df2)\n",
    "    df1 = df1.drop_duplicates(subset=['Organization Name'])\n",
    "    df1 = df1[df1.Founders.notna()]\n",
    "    df1 = df1[df1.LinkedIn.notna()]\n",
    "    return df1\n",
    "\n",
    "# Loads and combines both CSVs into df1 dataframe\n",
    "df1 = loadBacktestData('backtest1.csv', 'backtest2.csv')\n",
    "# Creates a company_data dictionary to store scraped data\n",
    "company_data = {}"
   ]
  },
  {
   "cell_type": "code",
   "execution_count": 91,
   "metadata": {},
   "outputs": [],
   "source": [
    "'''\n",
    "Method to set up and log into the LinkedIn using chromedriver\n",
    "    @param: driverPath: path to the chromedriver.exe file\n",
    "    @param: liUsername: string of LI username\n",
    "    @param: liPassword: string of LI password\n",
    "    @return: driver: the Chrome Webdriver (can be passed into future function arguments)\n",
    "'''\n",
    "def setupDriver(driverPath, liUsername, liPassword):\n",
    "    # Sets up Chrome Webdriver and navigates to LinkedIn\n",
    "    driver = webdriver.Chrome(driverPath)\n",
    "    driver.get('https://www.linkedin.com/')\n",
    "    sleep(2.0)\n",
    "    \n",
    "    # Signs in with given credentials and returns the driver\n",
    "    driver.find_element_by_xpath('//a[text()=\"Sign in\"]').click()\n",
    "    sleep(2.0)\n",
    "    username_input = driver.find_element_by_name('session_key')\n",
    "    username_input.send_keys(liUsername)\n",
    "    password_input = driver.find_element_by_name('session_password')\n",
    "    password_input.send_keys(liPassword)\n",
    "    sleep(2.0)\n",
    "    driver.find_element_by_xpath('//button[text()=\"Sign in\"]').click()\n",
    "    return driver\n",
    "\n",
    "# Launches LinkedIn and logs in\n",
    "driver = setupDriver('./chromedriver', 'LIUsername', 'LIPassword')"
   ]
  },
  {
   "cell_type": "code",
   "execution_count": 94,
   "metadata": {},
   "outputs": [],
   "source": [
    "'''\n",
    "Method to add LI information for a company into the company_data dictionary with a new company object\n",
    "    @param: entry: a pandas series extracted from a single row in the dataframe from loadBacktestData\n",
    "    @return: None\n",
    "This method updates the company_data dictionary and returns nothing\n",
    "'''\n",
    "def extractLIInfo(entry):\n",
    "    # Adds a new company entry to the company_data dictionary and populates fields\n",
    "    company_ = Company(entry['Organization Name'])\n",
    "    company_.description = entry['Description']\n",
    "    company_.industries = [i.strip() for i in entry['Industries'].split(',')]\n",
    "    company_.website = entry['Website']\n",
    "    company_.lastStage = entry['Last Funding Type']\n",
    "    # Edge case where the LinkedIn link does not end in '/'\n",
    "    if entry['LinkedIn'][-1] != '/':\n",
    "        entry['LinkedIn'] = entry['LinkedIn'] + '/'\n",
    "    company_.linkedin = entry['LinkedIn']\n",
    "    company_.location = entry['Headquarters Location']\n",
    "    \n",
    "    # Generates a list of founder names\n",
    "    founderNames = [i.strip() for i in entry['Founders'].split(',')]\n",
    "    # Navigates to the company's primary LinkedIn page [People Tab]\n",
    "    driver.get(entry['LinkedIn'] + \"people/\")\n",
    "    sleep(1.0)\n",
    "    # For each founder in the list, the school name, degree, and major is extracted\n",
    "    for founder in founderNames:\n",
    "        name_input = driver.find_element_by_id('people-search-keywords')\n",
    "        name_input.send_keys(founder)\n",
    "        driver.find_element_by_id(\"people-search-keywords\").send_keys(Keys.ENTER)\n",
    "        sleep(1.0)\n",
    "        try:\n",
    "            driver.find_element_by_xpath('//a[@data-control-name = \"people_profile_card_name_link\"]').click()\n",
    "            sleep(2.0)\n",
    "            # Scrolls to the bottom of the webpage (if no scroll, error where the full webpage doens't load)\n",
    "            html = driver.find_element_by_tag_name('html')\n",
    "            html.send_keys(Keys.END)\n",
    "            sleep(0.75)\n",
    "            # Creates a founder object for the given founder\n",
    "            founder_ = Founder(founder)\n",
    "            \n",
    "            ###########################################################\n",
    "            # Extracts degree information (formatted as a list of items)\n",
    "            schools = driver.find_elements_by_xpath('//div[@class=\"pv-entity__degree-info\"]')\n",
    "            for school in schools:\n",
    "                school_ = school.text.split('\\n')\n",
    "                # The school is formatted as a list [School Name,'Degree Name',Degree Name,'Field of Study',FOS]\n",
    "                try:\n",
    "                    educ_ = Education(school_[0])\n",
    "                    try:\n",
    "                        educ_.degree = school_[2]\n",
    "                        educ_.field = school_[4]\n",
    "                    except:\n",
    "                        pass\n",
    "                    # Appends the temporary education object to the founder\n",
    "                    founder_.education.append(educ_)\n",
    "                except:\n",
    "                    pass\n",
    "            \n",
    "            ###############################################################    \n",
    "            # Extracts experience information (formatted as a list of items)\n",
    "            experiences = driver.find_elements_by_xpath('//a[@data-control-name=\"background_details_company\"]')\n",
    "            for exp in experiences:\n",
    "                exp_lst = exp.text.split('\\n')\n",
    "                # The exp_ is formatted as [title, 'companyname', companyname, 'datesemployed', datesemployed, ..]\n",
    "                try:\n",
    "                    if exp_lst[0] == 'Company Name':\n",
    "                        exp_ = Experience(exp_list[1])\n",
    "                        founder_.experience.append(exp_)\n",
    "                    else:\n",
    "                        exp_ = Experience(exp_lst[2])\n",
    "                        try:\n",
    "                            exp_.title = exp_lst[0]\n",
    "                            exp_.dates = exp_lst[4]\n",
    "                            founder_.experience.append(exp_)\n",
    "                        except:\n",
    "                            founder_.experience.append(exp_)\n",
    "                except:\n",
    "                    pass\n",
    "            # Appends the temporary founder object to the company\n",
    "            company_.founders.append(founder_)\n",
    "            # Re-navigates to company's LinkedIn page\n",
    "            driver.get(entry['LinkedIn'] + \"people/\")\n",
    "            sleep(1.0)\n",
    "        except:\n",
    "            founder_ = Founder(founder)\n",
    "            company_.founders.append(founder_)\n",
    "            print(\"{} not found for {}\".format(company_.name, founder_.name))\n",
    "            driver.get(entry['LinkedIn'] + \"people/\")\n",
    "            sleep(1.0)\n",
    "    # Adds the company to the company_data dictionary\n",
    "    company_data[company_.name] = company_"
   ]
  },
  {
   "cell_type": "code",
   "execution_count": 95,
   "metadata": {},
   "outputs": [
    {
     "name": "stdout",
     "output_type": "stream",
     "text": [
      "0\n",
      "1\n"
     ]
    }
   ],
   "source": [
    "# I haven't tried running this across all entries in the dataframe yet\n",
    "# General idea is outlined below:\n",
    "\n",
    "# Stores data for a single company in company_data\n",
    "for i in range(2):\n",
    "    print(i)\n",
    "    extractLIInfo(df1.iloc[i])\n",
    "# Data can then be extracted from company data\n",
    "# company_data['Compound'].founders[0].education[0].school"
   ]
  },
  {
   "cell_type": "markdown",
   "metadata": {},
   "source": [
    "company_data['Bison Trails'].founders[0].education[0].field"
   ]
  },
  {
   "cell_type": "code",
   "execution_count": 14,
   "metadata": {},
   "outputs": [
    {
     "data": {
      "text/plain": [
       "'2018 – Present'"
      ]
     },
     "execution_count": 14,
     "metadata": {},
     "output_type": "execute_result"
    }
   ],
   "source": [
    "company_data['Tecton'].founders[1].experience[0].location"
   ]
  },
  {
   "cell_type": "code",
   "execution_count": 83,
   "metadata": {},
   "outputs": [
    {
     "data": {
      "text/plain": [
       "'Co-Founder & COO'"
      ]
     },
     "execution_count": 83,
     "metadata": {},
     "output_type": "execute_result"
    }
   ],
   "source": [
    "company_data['Kodiak Robotics'].founders[1].experience[0].title"
   ]
  },
  {
   "cell_type": "code",
   "execution_count": 108,
   "metadata": {},
   "outputs": [],
   "source": [
    "company_json = json.dumps(company_data, default=lambda x: x.__dict__)"
   ]
  },
  {
   "cell_type": "code",
   "execution_count": 109,
   "metadata": {},
   "outputs": [
    {
     "data": {
      "text/plain": [
       "'{\"Bright Machines\": {\"name\": \"Bright Machines\", \"description\": \"Bright Machines brings together flexible factory robots with intelligent software, production data and machine learning.\", \"founders\": [{\"name\": \"Amar Hanspal\", \"education\": [{\"school\": \"Stanford University\", \"degree\": \"Director\\'s College\", \"field\": null}, {\"school\": \"State University of New York at Stony Brook\", \"degree\": \"MS\", \"field\": \"Mechanical Engineering\"}, {\"school\": \"University Of Bombay\", \"degree\": \"Bachelor of Engineering (B.Eng.)\", \"field\": \"Mechanical Engineering\"}], \"experience\": [{\"companyName\": \"Bright Machines\", \"title\": \"Chief Executive Officer\", \"dates\": \"May 2018 \\\\u2013 Present\"}, {\"companyName\": \"BeyondTrust\", \"title\": \"Board Member\", \"dates\": \"Jul 2019 \\\\u2013 Present\"}, {\"companyName\": \"eSilicon\", \"title\": \"Board Member\", \"dates\": \"Jun 2014 \\\\u2013 Nov 2019\"}, {\"companyName\": \"RedSpark Inc\", \"title\": \"Vice President and Co-Founder\", \"dates\": \"Oct 1999 \\\\u2013 Oct 2001\"}]}], \"industries\": [\"Computer\", \"Information Technology\", \"Machine Learning\", \"Manufacturing\", \"Robotics\", \"Software\"], \"website\": \"https://www.brightmachines.com\", \"lastStage\": \"Series A\", \"linkedin\": \"https://www.linkedin.com/company/bright-machines/\", \"location\": \"San Francisco, California, United States\"}, \"Nuvia\": {\"name\": \"Nuvia\", \"description\": \"Nuvia develops processors intended to create high-performance silicon design for a compute-intensive world.\", \"founders\": [{\"name\": \"Gerard Williams III\", \"education\": [{\"school\": \"University of Missouri-Rolla\", \"degree\": \"MSEE\", \"field\": \"Electrical and Computer Engineering\"}, {\"school\": \"Arkansas State University\", \"degree\": \"BSE (Honors)\", \"field\": \"Electrical Engineering, Computer Science\"}], \"experience\": [{\"companyName\": \"NUVIA Inc Full-time\", \"title\": \"CEO, President, and Founder\", \"dates\": \"Feb 2019 \\\\u2013 Present\"}, {\"companyName\": \"Apple\", \"title\": \"Sr Dir in Platform Architecture\", \"dates\": \"Feb 2010 \\\\u2013 Feb 2019\"}, {\"companyName\": \"ARM\", \"title\": \"Fellow\", \"dates\": \"Jan 1998 \\\\u2013 Feb 2010\"}, {\"companyName\": \"Texas Instruments\", \"title\": \"Design Team Lead\", \"dates\": \"Jul 1996 \\\\u2013 Dec 1997\"}, {\"companyName\": \"Intel Corporation\", \"title\": \"Graduate Intern in IMAP Group\", \"dates\": \"Jun 1995 \\\\u2013 Aug 1995\"}]}, {\"name\": \"John Bruno\", \"education\": [{\"school\": \"University Of Toronto, Engineering\", \"degree\": \"BaSC\", \"field\": \"Electrical Engineering\"}, {\"school\": \"Professional Engineers Ontario\", \"degree\": \"P. Eng.\", \"field\": \"Engineering Law and Ethics\"}], \"experience\": [{\"companyName\": \"NUVIA Inc Full-time\", \"title\": \"Founder and SVP System Engineering\", \"dates\": \"Mar 2019 \\\\u2013 Present\"}, {\"companyName\": \"Google\", \"title\": \"System Architect\", \"dates\": \"Dec 2017 \\\\u2013 Mar 2019\"}, {\"companyName\": \"Apple\", \"title\": \"System Architect\", \"dates\": \"Jul 2012 \\\\u2013 Dec 2017\"}]}, {\"name\": \"Manu Gulati\", \"education\": [{\"school\": \"University of California at Irvine\", \"degree\": \"MS\", \"field\": \"Electrical and Computer Engineering\"}, {\"school\": \"Indian Institute of Technology, Delhi\", \"degree\": \"B. Tech\", \"field\": \"Electrical Engineering\"}], \"experience\": [{\"companyName\": \"NUVIA Inc Full-time\", \"title\": \"Founder and SVP Engineering\", \"dates\": \"Mar 2019 \\\\u2013 Present\"}, {\"companyName\": \"Google\", \"title\": \"Lead SOC Architect\", \"dates\": \"May 2017 \\\\u2013 Mar 2019\"}, {\"companyName\": \"Apple Inc.\", \"title\": \"SOC Micro-Architect\", \"dates\": \"Aug 2009 \\\\u2013 Apr 2017\"}]}], \"industries\": [\"Data Center\", \"Electronics\", \"Information Technology\", \"Semiconductor\", \"Software\"], \"website\": \"https://nuviainc.com/\", \"lastStage\": \"Series A\", \"linkedin\": \"https://www.linkedin.com/company/nuviainc/\", \"location\": \"Santa Clara, California, United States\"}}'"
      ]
     },
     "execution_count": 109,
     "metadata": {},
     "output_type": "execute_result"
    }
   ],
   "source": [
    "company_json"
   ]
  },
  {
   "cell_type": "code",
   "execution_count": null,
   "metadata": {},
   "outputs": [],
   "source": []
  },
  {
   "cell_type": "code",
   "execution_count": null,
   "metadata": {},
   "outputs": [],
   "source": []
  },
  {
   "cell_type": "code",
   "execution_count": null,
   "metadata": {},
   "outputs": [],
   "source": []
  }
 ],
 "metadata": {
  "kernelspec": {
   "display_name": "Miniconda3",
   "language": "python",
   "name": "miniconda3"
  },
  "language_info": {
   "codemirror_mode": {
    "name": "ipython",
    "version": 3
   },
   "file_extension": ".py",
   "mimetype": "text/x-python",
   "name": "python",
   "nbconvert_exporter": "python",
   "pygments_lexer": "ipython3",
   "version": "3.7.7"
  }
 },
 "nbformat": 4,
 "nbformat_minor": 2
}
